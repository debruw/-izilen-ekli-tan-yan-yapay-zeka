{
 "cells": [
  {
   "cell_type": "code",
   "execution_count": 1,
   "metadata": {},
   "outputs": [],
   "source": [
    "# Imports\n",
    "\n",
    "import numpy as np \n",
    "\n",
    "%matplotlib inline\n",
    "import matplotlib.pyplot as plt\n",
    "\n",
    "from sklearn.neural_network import MLPClassifier\n",
    "\n",
    "from sklearn.metrics import accuracy_score, confusion_matrix, roc_curve, roc_auc_score\n",
    "from sklearn.model_selection import train_test_split, GridSearchCV"
   ]
  },
  {
   "cell_type": "markdown",
   "metadata": {},
   "source": [
    "Burada gerekli olan kütüphaneleri projemize ekledik.\n",
    "NumPy kütüphanesini bilimsel hasaplamalar yapmak için kullandık.\n",
    "Matplotlib kütüphanesini ekrana görsel çizdirirken kullandık.\n",
    "Sklearn kütüphanesini makine öğrenmesi hesaplamaları için kullandık."
   ]
  },
  {
   "cell_type": "code",
   "execution_count": 2,
   "metadata": {},
   "outputs": [
    {
     "name": "stderr",
     "output_type": "stream",
     "text": [
      "Using TensorFlow backend.\n"
     ]
    }
   ],
   "source": [
    "import keras\n",
    "from keras.models import Sequential\n",
    "from keras.layers import Dense, Dropout, Flatten\n",
    "from keras.layers.convolutional import Conv2D, MaxPooling2D\n",
    "from keras.utils import np_utils\n",
    "from keras import backend as K\n",
    "K.set_image_dim_ordering('th')"
   ]
  },
  {
   "cell_type": "markdown",
   "metadata": {},
   "source": [
    "Keras kütüphanesi yüksek seviyeli bir yapay sinir ağı kütüphanesidir. \n",
    "Yapay sinir ağımızı Keras yardımı ile oluşturduk."
   ]
  },
  {
   "cell_type": "code",
   "execution_count": 3,
   "metadata": {},
   "outputs": [],
   "source": [
    "# load the data\n",
    "circle = np.load('C:/python36/data/circle.npy')\n",
    "line = np.load('C:/python36/data/line.npy')\n",
    "square = np.load('C:/python36/data/square.npy')\n",
    "star = np.load('C:/python36/data/star.npy')\n",
    "triangle = np.load('C:/python36/data/triangle.npy')"
   ]
  },
  {
   "cell_type": "markdown",
   "metadata": {},
   "source": [
    "Burada yapay sinir ağımızın eğitimi ve testi için kullanacağımız verileri yükledik.\n",
    "Format olarak NumPy kütüphanesinin sağladığı .npy formatını kullandık.\n",
    "NumPy bu format için bir çok fonksiyon sağlamakta bu sebeple üzerinde işlem yapmak daha kolay olmaktadır.\n",
    "Bu veriler Google'ın geliştirdiği Quick Draw isimli oyundan elde edilen veriler. Google bu verileri halkın kullanımına açık olarak paylaştı.\n",
    "Projede kullanmak üzere beş adet seçeneği https://console.cloud.google.com/storage/quickdraw_dataset/full/numpy_bitmap adresinden indirdik ve belirli bir konuma kaydettik.\n",
    "Deneme olarak daire, çizgi, dörtgen, yıldız ve üçgen çizimlerini kullandık.\n",
    "Daha sonradan bu verilere eklemeler yaparak geliştirmeye devam edebiliriz."
   ]
  },
  {
   "cell_type": "code",
   "execution_count": 4,
   "metadata": {},
   "outputs": [
    {
     "name": "stdout",
     "output_type": "stream",
     "text": [
      "(122876, 785)\n",
      "(143549, 785)\n",
      "(125145, 785)\n",
      "(137619, 785)\n",
      "(123170, 785)\n"
     ]
    }
   ],
   "source": [
    "# add a column with labels\n",
    "circle = np.c_[circle, 0*np.ones(len(circle))]\n",
    "line = np.c_[line, 1*np.ones(len(line))]\n",
    "square = np.c_[square, 2*np.ones(len(square))]\n",
    "star = np.c_[star, 3*np.ones(len(star))]\n",
    "triangle = np.c_[triangle, 4*np.ones(len(triangle))]\n",
    "# store the label codes in a dictionary\n",
    "label_dict = {0:'circle', 1:'line', 2:'square', 3:'star', 4:'triangle'}\n",
    "\n",
    "print(circle.shape)\n",
    "print(line.shape)\n",
    "print(square.shape)\n",
    "print(star.shape)\n",
    "print(triangle.shape)"
   ]
  },
  {
   "cell_type": "markdown",
   "metadata": {},
   "source": [
    "Yüklediğimiz verilerin içerisinde yapay sinir ağının ihtiyaç duyduğu label'lar yani resimdeki çizimin ne olduğunu belirten kısım bulunmuyor. Bu sebeple verilere gerekli label'ları ekliyoruz.\n",
    "Daha sonra bunları sözlüğümüze kaydediyor ve ekrana verilerimizin biçimlerini çizdiriyoruz."
   ]
  },
  {
   "cell_type": "code",
   "execution_count": 5,
   "metadata": {},
   "outputs": [],
   "source": [
    "def plot_samples(input_array, rows=4, cols=5, title=''):\n",
    "    '''\n",
    "    Function to plot 28x28 pixel drawings that are stored in a numpy array.\n",
    "    Specify how many rows and cols of pictures to display (default 4x5).  \n",
    "    If the array contains less images than subplots selected, surplus subplots remain empty.\n",
    "    '''\n",
    "    \n",
    "    fig, ax = plt.subplots(figsize=(cols,rows))\n",
    "    ax.axis('off')\n",
    "    plt.title(title)\n",
    "\n",
    "    for i in list(range(0, min(len(input_array),(rows*cols)) )):      \n",
    "        a = fig.add_subplot(rows,cols,i+1)\n",
    "        imgplot = plt.imshow(input_array[i,:784].reshape((28,28)), cmap='gray_r', interpolation='nearest')\n",
    "        plt.xticks([])\n",
    "        plt.yticks([])"
   ]
  },
  {
   "cell_type": "markdown",
   "metadata": {},
   "source": [
    "plot_samples fonksiyonu numpy dizisi formatında olan verilerimizi ekrana çizdirmek için kullanılıyor."
   ]
  },
  {
   "cell_type": "code",
   "execution_count": 6,
   "metadata": {},
   "outputs": [],
   "source": [
    "import itertools\n",
    "\n",
    "def plot_confusion_matrix(cm, classes,\n",
    "                          normalize=False,\n",
    "                          title='Karmaşıklık matrisi',\n",
    "                          cmap=plt.cm.Blues):\n",
    "    \"\"\"\n",
    "    This function prints and plots the confusion matrix.\n",
    "    Normalization can be applied by setting `normalize=True`.\n",
    "    \"\"\"\n",
    "    plt.imshow(cm, interpolation='nearest', cmap=cmap)\n",
    "    plt.title(title)\n",
    "    plt.colorbar()\n",
    "    tick_marks = np.arange(len(classes))\n",
    "    plt.xticks(tick_marks, classes, rotation=45)\n",
    "    plt.yticks(tick_marks, classes)\n",
    "\n",
    "    if normalize:\n",
    "        cm = np.round(cm.astype('float') / cm.sum(axis=1)[:, np.newaxis], 5)\n",
    "        print(\"Normalizasyonlu Karmaşıklık Matrisi\")\n",
    "    else:\n",
    "        print('Normalizasyonsuz Karmaşıklık Matrisi')\n",
    "\n",
    "    print(cm)\n",
    "\n",
    "    thresh = cm.max() / 2.\n",
    "    for i, j in itertools.product(range(cm.shape[0]), range(cm.shape[1])):\n",
    "        plt.text(j, i, cm[i, j],\n",
    "                 horizontalalignment=\"center\",\n",
    "                 color=\"white\" if cm[i, j] > thresh else \"black\")\n",
    "\n",
    "    plt.tight_layout()\n",
    "    plt.ylabel('Doğru etiket')\n",
    "    plt.xlabel('Öngörülen etiket')"
   ]
  },
  {
   "cell_type": "markdown",
   "metadata": {},
   "source": [
    "plot_confusion_matrix foksiyonu karmaşıklık matrisini ekrana görsel bir şekilde çizdirmekte."
   ]
  },
  {
   "cell_type": "code",
   "execution_count": 7,
   "metadata": {},
   "outputs": [
    {
     "data": {
      "image/png": "[encoded data removed]",
      "text/plain": [
       "<matplotlib.figure.Figure at 0x279c5f5e358>"
      ]
     },
     "metadata": {},
     "output_type": "display_data"
    }
   ],
   "source": [
    "plot_samples(circle, title='Örnek yuvarlak çizimleri\\n')"
   ]
  },
  {
   "cell_type": "code",
   "execution_count": 8,
   "metadata": {},
   "outputs": [
    {
     "data": {
      "image/png": "[encoded data removed]",
      "text/plain": [
       "<matplotlib.figure.Figure at 0x279c925a470>"
      ]
     },
     "metadata": {},
     "output_type": "display_data"
    }
   ],
   "source": [
    "plot_samples(line, title='Örnek çizgi çizimleri\\n')"
   ]
  },
  {
   "cell_type": "code",
   "execution_count": 9,
   "metadata": {},
   "outputs": [
    {
     "data": {
      "image/png": "[encoded data removed]",
      "text/plain": [
       "<matplotlib.figure.Figure at 0x279c978e780>"
      ]
     },
     "metadata": {},
     "output_type": "display_data"
    }
   ],
   "source": [
    "plot_samples(square, title='Örnek kare çizimleri\\n')"
   ]
  },
  {
   "cell_type": "code",
   "execution_count": 10,
   "metadata": {},
   "outputs": [
    {
     "data": {
      "image/png": "[encoded data removed]",
      "text/plain": [
       "<matplotlib.figure.Figure at 0x279c9747fd0>"
      ]
     },
     "metadata": {},
     "output_type": "display_data"
    }
   ],
   "source": [
    "plot_samples(star, title='Örnek yıldız çizimleri\\n')"
   ]
  },
  {
   "cell_type": "code",
   "execution_count": 11,
   "metadata": {},
   "outputs": [
    {
     "data": {
      "image/png": "[encoded data removed]",
      "text/plain": [
       "<matplotlib.figure.Figure at 0x279c5e3f048>"
      ]
     },
     "metadata": {},
     "output_type": "display_data"
    }
   ],
   "source": [
    "plot_samples(triangle, title='Örnek üçgen çizimleri\\n')"
   ]
  },
  {
   "cell_type": "code",
   "execution_count": 12,
   "metadata": {},
   "outputs": [],
   "source": [
    "X = np.concatenate((circle[:5000,:-1], line[:5000,:-1], square[:5000,:-1], star[:5000,:-1], triangle[:5000,:-1]), axis=0).astype('float32') # all columns but the last\n",
    "y = np.concatenate((circle[:5000,-1], line[:5000,-1], square[:5000,-1], star[:5000,-1], triangle[:5000,-1]), axis=0).astype('float32') # the last column\n",
    "\n",
    "X_train, X_test, y_train, y_test = train_test_split(X/255.,y,test_size=0.5,random_state=0)"
   ]
  },
  {
   "cell_type": "markdown",
   "metadata": {},
   "source": [
    "Ayrı dizilerde bulunan verileri tek bir dizi olarak birleştirdik. \n",
    "X değişkenine sonuncusu hariç tüm sütunları atadık. Y değişkenine ise son sütunu atadık. \n",
    "Son satırda ise verileri eğitim ve test verisi olarak bölümlendirdik."
   ]
  },
  {
   "cell_type": "code",
   "execution_count": 13,
   "metadata": {},
   "outputs": [],
   "source": [
    "# one hot encode outputs\n",
    "y_train_cnn = np_utils.to_categorical(y_train)\n",
    "y_test_cnn = np_utils.to_categorical(y_test)\n",
    "num_classes = y_test_cnn.shape[1]"
   ]
  },
  {
   "cell_type": "markdown",
   "metadata": {},
   "source": [
    "Kera y label'larının one hot encodngden geçirilmesini gerektiriyor. Bu yüzden bu satırları ekledik."
   ]
  },
  {
   "cell_type": "code",
   "execution_count": 14,
   "metadata": {},
   "outputs": [],
   "source": [
    "# reshape to be [samples][pixels][width][height]\n",
    "X_train_cnn = X_train.reshape(X_train.shape[0], 1, 28, 28).astype('float32')\n",
    "X_test_cnn = X_test.reshape(X_test.shape[0], 1, 28, 28).astype('float32')"
   ]
  },
  {
   "cell_type": "markdown",
   "metadata": {},
   "source": [
    "Verilerimizi 28x28 boyutunda olacak şekilde yeniden boyutlandırdık. Bu sinir ağına 784x1 vektörüne göre ek bilgi vermektedir."
   ]
  },
  {
   "cell_type": "code",
   "execution_count": null,
   "metadata": {},
   "outputs": [],
   "source": [
    "# define the CNN model\n",
    "def cnn_model():\n",
    "    # create model\n",
    "    model = Sequential()\n",
    "    model.add(Conv2D(30, (5, 5), input_shape=(1, 28, 28), activation='relu'))\n",
    "    model.add(MaxPooling2D(pool_size=(2, 2)))\n",
    "    model.add(Conv2D(15, (3, 3), activation='relu'))\n",
    "    model.add(MaxPooling2D(pool_size=(2, 2)))\n",
    "    model.add(Dropout(0.2))\n",
    "    model.add(Flatten())\n",
    "    model.add(Dense(128, activation='relu'))\n",
    "    model.add(Dense(50, activation='relu'))\n",
    "    model.add(Dense(num_classes, activation='softmax'))\n",
    "    # Compile model\n",
    "    model.compile(loss='categorical_crossentropy', optimizer='adam', metrics=['accuracy'])\n",
    "    return model"
   ]
  },
  {
   "cell_type": "markdown",
   "metadata": {},
   "source": [
    "Yapay sinir ağı modelimizi tanımladık. Yapay sinir ağımız aşağıdaki katmanlara sahip.\n",
    "1. 5x5 boyutunda 30 adet özellik haritasına sahip evrimsel katman.\n",
    "2. Havuz tabakası, maksimum 2x2 parçaya sahip.\n",
    "3. 3x3 boyutunda 15 adet özellik haritasına sahip evrimsel katman.\n",
    "4. Havuz tabakası, maksimum 2x2 parçaya sahip.\n",
    "5. %20 olasılığa sahip bırakma katmanı.\n",
    "6. Düzleştirme katmanı.\n",
    "7. Tam bağlı katman, 128 nöron ve doğrultucu aktivasyona sahip.\n",
    "8. Tam bağlı katman, 50 nöron ve doğrultucu aktivasyona sahip.\n",
    "9. Çıktı katmanı.\n"
   ]
  },
  {
   "cell_type": "code",
   "execution_count": null,
   "metadata": {},
   "outputs": [
    {
     "name": "stdout",
     "output_type": "stream",
     "text": [
      "Train on 12500 samples, validate on 12500 samples\n",
      "Epoch 1/10\n",
      "12500/12500 [==============================] - 57s 5ms/step - loss: 0.6548 - acc: 0.7378 - val_loss: 0.2685 - val_acc: 0.9353\n",
      "Epoch 2/10\n",
      "12500/12500 [==============================] - 65s 5ms/step - loss: 0.2128 - acc: 0.9406 - val_loss: 0.1812 - val_acc: 0.9503\n",
      "Epoch 3/10\n",
      "12500/12500 [==============================] - 56s 4ms/step - loss: 0.1533 - acc: 0.9570 - val_loss: 0.1573 - val_acc: 0.9558\n",
      "Epoch 4/10\n",
      "12500/12500 [==============================] - 63s 5ms/step - loss: 0.1344 - acc: 0.9616 - val_loss: 0.1643 - val_acc: 0.9563\n",
      "Epoch 5/10\n",
      "12500/12500 [==============================] - 53s 4ms/step - loss: 0.1277 - acc: 0.9621 - val_loss: 0.1534 - val_acc: 0.9574\n",
      "Epoch 6/10\n",
      "12400/12500 [============================>.] - ETA: 0s - loss: 0.1145 - acc: 0.9665"
     ]
    }
   ],
   "source": [
    "%%time\n",
    "\n",
    "# build the model\n",
    "model = cnn_model()\n",
    "# Fit the model\n",
    "model.fit(X_train_cnn, y_train_cnn, validation_data=(X_test_cnn, y_test_cnn), epochs=10, batch_size=200)\n",
    "# Final evaluation of the model\n",
    "scores = model.evaluate(X_test_cnn, y_test_cnn, verbose=0)\n",
    "print('Final CNN doğruluğu: ', scores[1])"
   ]
  },
  {
   "cell_type": "markdown",
   "metadata": {},
   "source": [
    "Burada modelimizi çalıştırdık ve doğruluk değerini ekrana yazdırdık."
   ]
  },
  {
   "cell_type": "code",
   "execution_count": null,
   "metadata": {},
   "outputs": [],
   "source": [
    "y_pred_cnn = model.predict_classes(X_test_cnn, batch_size=32, verbose=0)\n",
    "acc_cnn = accuracy_score(y_test, y_pred_cnn)\n",
    "print ('CNN doğruluğu: ',acc_cnn)"
   ]
  },
  {
   "cell_type": "markdown",
   "metadata": {},
   "source": [
    "CNN doğruluğuna bakıyoruz."
   ]
  },
  {
   "cell_type": "code",
   "execution_count": null,
   "metadata": {},
   "outputs": [],
   "source": [
    "# Compute confusion matrix\n",
    "cnf_matrix = confusion_matrix(y_test, y_pred_cnn)\n",
    "np.set_printoptions(precision=2)\n",
    "\n",
    "# Plot non-normalized confusion matrix\n",
    "plt.figure()\n",
    "plot_confusion_matrix(cnf_matrix, classes=['circle','line','square','star','triangle'],\n",
    "                      title='Normalizasyonsuz Karmaşıklık Matrisi')\n",
    "\n",
    "plt.show()"
   ]
  },
  {
   "cell_type": "markdown",
   "metadata": {},
   "source": [
    "plot_confusion_matrix() metodumuzu kullanarak karmaşıklık matrisimizi çizdiriyoruz."
   ]
  },
  {
   "cell_type": "code",
   "execution_count": null,
   "metadata": {},
   "outputs": [],
   "source": [
    "cnn_probab = model.predict(X_test_cnn, batch_size=32, verbose=0)\n",
    "\n",
    "# extract the probability for the label that was predicted:\n",
    "p_max = np.amax(cnn_probab, axis=1)\n",
    "\n",
    "plt.hist(p_max, normed=True, bins=list(np.linspace(0,1,11)));\n",
    "plt.xlabel('Öngörülen sınıf p');"
   ]
  },
  {
   "cell_type": "markdown",
   "metadata": {},
   "source": [
    "Model tarafından hangi olasılıkların tahmin edildiğine baktık."
   ]
  },
  {
   "cell_type": "code",
   "execution_count": null,
   "metadata": {},
   "outputs": [],
   "source": [
    "np.mean(p_max)"
   ]
  },
  {
   "cell_type": "markdown",
   "metadata": {},
   "source": [
    "Bir tahmininin en yüksek kesinliğine baktık."
   ]
  },
  {
   "cell_type": "code",
   "execution_count": null,
   "metadata": {},
   "outputs": [],
   "source": [
    "np.amin(p_max)"
   ]
  },
  {
   "cell_type": "markdown",
   "metadata": {},
   "source": [
    "Bir tahmininin en düşük kesinliğine baktık."
   ]
  },
  {
   "cell_type": "code",
   "execution_count": null,
   "metadata": {},
   "outputs": [],
   "source": [
    "fig, ax = plt.subplots(figsize=(6,15))\n",
    "\n",
    "for i in list(range(10)):\n",
    "\n",
    "    # plot probabilities:\n",
    "    ax = plt.subplot2grid((10, 5), (i, 0), colspan=4);\n",
    "    plt.bar(np.arange(5), cnn_probab[i], 0.35, align='center');\n",
    "    plt.xticks(np.arange(5), ['circle','line','square','star','triangle'])\n",
    "    plt.tick_params(axis='x', bottom='off', top='off')\n",
    "    plt.ylabel('Probability')\n",
    "    plt.ylim(0,1)\n",
    "    plt.subplots_adjust(hspace = 0.5)\n",
    "\n",
    "    # plot picture:\n",
    "    ax = plt.subplot2grid((10, 5), (i, 4));\n",
    "    plt.imshow(X_test[i].reshape((28,28)),cmap='gray_r', interpolation='nearest');\n",
    "    plt.xlabel(label_dict[y_test[i]]); # get the label from the dict\n",
    "    plt.xticks([])\n",
    "    plt.yticks([])"
   ]
  },
  {
   "cell_type": "markdown",
   "metadata": {},
   "source": [
    "Bazı tahminlere detaylı olarak baktık."
   ]
  },
  {
   "cell_type": "code",
   "execution_count": null,
   "metadata": {},
   "outputs": [],
   "source": [
    "fig, ax = plt.subplots(figsize=(6,15))\n",
    "\n",
    "for i in list(range(10)):\n",
    "    \n",
    "    # plot probabilities:\n",
    "    ax = plt.subplot2grid((10, 5), (i, 0), colspan=4);\n",
    "    plt.bar(np.arange(5), cnn_probab[p_max<0.4][i], 0.35, align='center');\n",
    "    plt.xticks(np.arange(5), ['circle','line','square','star','triangle'])\n",
    "    plt.tick_params(axis='x', bottom='off', top='off')\n",
    "    plt.ylabel('Probability')\n",
    "    plt.ylim(0,1)\n",
    "    plt.subplots_adjust(hspace = 0.5)\n",
    "\n",
    "    # plot picture:\n",
    "    ax = plt.subplot2grid((10, 5), (i, 4));\n",
    "    plt.imshow(X_test[p_max<0.4][i].reshape((28,28)),cmap='gray_r', interpolation='nearest');\n",
    "    plt.xlabel(label_dict[y_test[p_max<0.4][i]]); # get the label from the dict\n",
    "    plt.xticks([])\n",
    "    plt.yticks([])"
   ]
  },
  {
   "cell_type": "code",
   "execution_count": null,
   "metadata": {},
   "outputs": [],
   "source": [
    "from keras.models import load_model\n",
    "\n",
    "model.save('my_model.h5')  # creates a HDF5 file 'my_model.h5'"
   ]
  },
  {
   "cell_type": "markdown",
   "metadata": {},
   "source": [
    "Modelimizin ağırlıklarını kaydettik. Bu ağırlıkları tahmin yapacağımız zaman kullanacağız."
   ]
  }
 ],
 "metadata": {
  "kernelspec": {
   "display_name": "Python 3",
   "language": "python",
   "name": "python3"
  },
  "language_info": {
   "codemirror_mode": {
    "name": "ipython",
    "version": 3
   },
   "file_extension": ".py",
   "mimetype": "text/x-python",
   "name": "python",
   "nbconvert_exporter": "python",
   "pygments_lexer": "ipython3",
   "version": "3.6.2"
  }
 },
 "nbformat": 4,
 "nbformat_minor": 2
}
